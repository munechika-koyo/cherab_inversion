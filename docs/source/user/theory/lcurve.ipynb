{
 "cells": [
  {
   "cell_type": "markdown",
   "metadata": {},
   "source": [
    "# L-curve criterion <cite data-footcite=\"Hansen1992-pf\"></cite><cite data-footcite=\"Hansen2000-zf\"></cite>"
   ]
  },
  {
   "cell_type": "markdown",
   "metadata": {},
   "source": [
    "## Definition"
   ]
  },
  {
   "cell_type": "markdown",
   "metadata": {
    "raw_mimetype": "text/restructuredtext"
   },
   "source": [
    "Let us consider the same ill-posed linear inverse problem introduced in the [regularization](inversion.ipynb#Regularization) section:"
   ]
  },
  {
   "cell_type": "markdown",
   "metadata": {},
   "source": [
    "$$\n",
    "\\mathbf{x}_\\lambda := \\arg\\min_{\\mathbf{x}}\n",
    "\\left[\n",
    "    \\| \\mathbf{T} \\mathbf{x} - \\mathbf{b} \\|_2^2 + \\lambda\\cdot \\mathbf{x}^\\mathsf{T} \\mathbf{H} \\mathbf{x}\n",
    "\\right].\n",
    "$$"
   ]
  },
  {
   "cell_type": "markdown",
   "metadata": {},
   "source": [
    "The L-curve is precisely following points curve:\n",
    "\n",
    "$$\n",
    "\\left(\n",
    "    \\| \\mathbf{T}\\mathbf{x}_\\lambda - \\mathbf{b} \\|_2,\n",
    "    \\; \\sqrt{\\mathbf{x}^\\mathsf{T}_\\lambda\\mathbf{H}\\mathbf{x}_\\lambda}\n",
    "\\right).\n",
    "$$\n",
    "\n",
    "This curve is monotonically decreasing varying $\\lambda$ from $0$ to $\\infty$."
   ]
  },
  {
   "cell_type": "markdown",
   "metadata": {},
   "source": [
    "The L-curve criterion gives a way to choose the optimal regularization parameter $\\lambda$ by\n",
    "finding the corner of the L-curve plotted in the log-log scale in figure below."
   ]
  },
  {
   "cell_type": "raw",
   "metadata": {
    "raw_mimetype": "text/restructuredtext"
   },
   "source": [
    ".. figure:: ../../_static/images/l_curve.svg\n",
    "   :align: center\n",
    "\n",
    "   The schematic diagram of the L-curve.\n",
    "   The dot on the curve indicates the L-curve's corner point."
   ]
  },
  {
   "cell_type": "markdown",
   "metadata": {},
   "source": [
    "## Derivation of the curvature of the L-curve"
   ]
  },
  {
   "cell_type": "markdown",
   "metadata": {},
   "source": [
    "To mathematically determine the L-curve's corner, its curvature is derived, and the corner is defined as the point where the curvature is maximal.\n",
    "\n",
    "Let\n",
    "\n",
    "$$\n",
    "\\begin{equation}\n",
    "\\rho \\equiv \\| \\mathbf{T}\\mathbf{x}_\\lambda - \\mathbf{b} \\|_2^2,\n",
    "\\quad\n",
    "\\eta \\equiv \\mathbf{x}^\\mathsf{T}_\\lambda\\mathbf{H}\\mathbf{x}_\\lambda,\n",
    "\\end{equation}\n",
    "$$\n",
    "\n",
    "and\n",
    "\n",
    "$$\n",
    "\\begin{equation}\n",
    "\\hat{\\rho} \\equiv \\log \\rho,\n",
    "\\quad\n",
    "\\hat{\\eta} \\equiv \\log \\eta\n",
    "\\end{equation}\n",
    "$$\n",
    "\n",
    "such that the L-curve is a plot of $(\\hat{\\rho}/2,\\; \\hat{\\eta}/2)$.\n",
    "\n",
    "Then the curvature $\\kappa(\\lambda)$ of the L-curve is defined as follows:\n",
    "\n",
    "$$\n",
    "\\begin{align}\n",
    "\\kappa(\\lambda)\n",
    "&\\equiv\n",
    "\\frac{\n",
    "    \\left(\\hat{\\rho}/2\\right)''\\left(\\hat{\\eta}/2\\right)'\n",
    "    - \\left(\\hat{\\rho}/2\\right)'\\left(\\hat{\\eta}/2\\right)''\n",
    "    }{\n",
    "    \\left[\n",
    "        \\left((\\hat{\\rho}/2)'\\right)^2\n",
    "        + \\left((\\hat{\\eta}/2)'\\right)^2\n",
    "    \\right]^{3/2}\n",
    "    }\\nonumber\\\\\n",
    "&=\n",
    "2\\frac{\n",
    "    \\hat{\\rho}''\\hat{\\eta}'\n",
    "    - \\hat{\\rho}'\\hat{\\eta}''\n",
    "    }{\n",
    "    \\left[\n",
    "        (\\hat{\\rho}')^2 + (\\hat{\\eta}')^2\n",
    "    \\right]^{3/2}\n",
    "    },\n",
    "\\end{align}\n",
    "$$\n",
    "\n",
    "where the prime denotes the derivative with respect to $\\lambda$.\n",
    "If $\\kappa(\\lambda) > 0$, the L-curve is convex at $\\lambda$,\n",
    "and if $\\kappa(\\lambda) < 0$, the L-curve is concave at $\\lambda$."
   ]
  },
  {
   "cell_type": "markdown",
   "metadata": {},
   "source": [
    "Before calculating the derivatives, we first rewrite $\\rho$ and $\\eta$ using the series\n",
    "expansion form of $\\mathbf{x}_\\lambda$ derived in the [series expansion section](inversion.ipynb#Series-expansion-of-the-solution)."
   ]
  },
  {
   "cell_type": "markdown",
   "metadata": {},
   "source": [
    "In advance, the $\\mathbf{T}\\tilde{\\mathbf{V}}$ is expressed as follows:\n",
    "$$\n",
    "\\begin{align*}\n",
    "\\mathbf{T}\\tilde{\\mathbf{V}}\n",
    "&=\n",
    "\\mathbf{T}\\mathbf{P}^\\mathsf{T}\\mathbf{L}^{-\\mathsf{T}}\\ \\mathbf{V}\n",
    "\\qquad(\\because \\tilde{\\mathbf{V}} = \\mathbf{P}^\\mathsf{T}\\mathbf{L}^{-\\mathsf{T}})\\\\\n",
    "&=\n",
    "\\mathbf{A}\\mathbf{A}^\\mathsf{T}\\mathbf{U}\\mathbf{S}^{-1}\n",
    "\\qquad(\\because \\mathbf{A} = \\mathbf{T}\\mathbf{P}^\\mathsf{T}\\mathbf{L}^{-\\mathsf{T}} = \\mathbf{U}\\mathbf{S}\\mathbf{V}^\\mathsf{T})\\\\\n",
    "&=\n",
    "\\mathbf{U}\\mathbf{S}^2\\mathbf{U}^\\mathsf{T}\\mathbf{U}\\mathbf{S}^{-1}\\\\\n",
    "&=\\mathbf{U}\\mathbf{S}\n",
    "\\end{align*}\n",
    "$$"
   ]
  },
  {
   "cell_type": "markdown",
   "metadata": {},
   "source": [
    "Then, the $\\rho$ is expressed as follows:\n",
    "\n",
    "$$\n",
    "\\begin{align}\n",
    "\\rho\n",
    "&=\n",
    "\\| \\mathbf{T}\\mathbf{x}_\\lambda - \\mathbf{b} \\|_2^2\\nonumber\\\\\n",
    "&=\n",
    "\\| \\mathbf{T}\\tilde{\\mathbf{V}}\\mathbf{F}_\\lambda\\mathbf{S}^{-1}\\mathbf{U}^\\mathsf{T}\\mathbf{b} - \\mathbf{b} \\|_2^2\\nonumber\\\\\n",
    "&=\n",
    "\\| \\mathbf{U}\\mathbf{S}\\mathbf{F}_\\lambda\\mathbf{S}^{-1}\\mathbf{U}^\\mathsf{T}\\mathbf{b} - \\mathbf{b} \\|_2^2\\nonumber\\\\\n",
    "&=\n",
    "\\| \\mathbf{U}\\mathbf{F}_\\lambda\\mathbf{U}^\\mathsf{T}\\mathbf{b} - \\mathbf{b} \\|_2^2\n",
    "\\qquad(\\because \\mathbf{S}\\mathbf{F}_\\lambda = \\mathbf{F}_\\lambda\\mathbf{S})\\nonumber\\\\\n",
    "&=\n",
    "\\| \\mathbf{U}(\\mathbf{F}_\\lambda - \\mathbf{I}_r)\\mathbf{U}^\\mathsf{T}\\mathbf{b} \\|^2_2\\nonumber\\\\\n",
    "&=\n",
    "\\| (\\mathbf{F}_\\lambda - \\mathbf{I}_r)\\mathbf{U}^\\mathsf{T}\\mathbf{b} \\|^2_2\n",
    "\\qquad(\\because \\| \\mathbf{Uy} \\|^2_2 = \\mathbf{y}^\\mathsf{T}\\mathbf{U}^\\mathsf{T}\\mathbf{U}\\mathbf{y} = \\| \\mathbf{y} \\|^2_2,\\; \\text{where } \\forall\\mathbf{y}\\in\\mathbb{R}^r)\\nonumber\\\\\n",
    "&=\n",
    "\\sum_{i=1}^r (f_{\\lambda, i} - 1)^2 (\\mathbf{u}_i^\\mathsf{T}\\mathbf{b})^2.\n",
    "\\end{align}\n",
    "$$\n"
   ]
  },
  {
   "cell_type": "markdown",
   "metadata": {},
   "source": [
    "Also the $\\eta$ is expressed as follows:\n",
    "\n",
    "$$\n",
    "\\begin{align}\n",
    "\\eta\n",
    "&=\n",
    "\\mathbf{x}^\\mathsf{T}_\\lambda\\mathbf{H}\\mathbf{x}_\\lambda\\nonumber\\\\\n",
    "&=\n",
    "\\mathbf{b}^\\mathsf{T}\\mathbf{U}\\mathbf{S}^{-1}\\mathbf{F}_\\lambda\\tilde{\\mathbf{V}}^\\mathsf{T}\\ \\mathbf{P}^\\mathsf{T}\\mathbf{L}\\mathbf{L}^\\mathsf{T}\\mathbf{P}\\ \\tilde{\\mathbf{V}}\\mathbf{F}_\\lambda\\mathbf{S}^{-1}\\mathbf{U}^\\mathsf{T}\\mathbf{b}\n",
    "\\qquad (\\because \\mathbf{H} = \\mathbf{P}^\\mathsf{T}\\mathbf{L}\\mathbf{L}^\\mathsf{T}\\mathbf{P})\\nonumber\\\\\n",
    "&=\n",
    "\\| \\mathbf{L}^\\mathsf{T}\\mathbf{P}\\tilde{\\mathbf{V}}\\ \\mathbf{F}_\\lambda\\mathbf{S}^{-1}\\mathbf{U}^\\mathsf{T}\\mathbf{b} \\|^2_2\\nonumber\\\\\n",
    "&=\n",
    "\\| \\mathbf{V}\\mathbf{F}_\\lambda \\mathbf{S}^{-1}\\mathbf{U}^\\mathsf{T}\\mathbf{b} \\|^2_2\n",
    "\\qquad (\\because\n",
    "\\mathbf{L}^\\mathsf{T}\\mathbf{P}\\tilde{\\mathbf{V}}\n",
    "= \\mathbf{L}^\\mathsf{T}\\mathbf{P}\\ \\mathbf{P}^\\mathsf{T}\\mathbf{L}^{-\\mathsf{T}}\\mathbf{V}\n",
    "= \\mathbf{V}\n",
    ")\\nonumber\\\\\n",
    "&=\n",
    "\\| \\mathbf{F}_\\lambda \\mathbf{S}^{-1}\\mathbf{U}^\\mathsf{T}\\mathbf{b} \\|^2_2\n",
    "\\qquad(\\because\n",
    "\\| \\mathbf{Vy} \\|^2_2\n",
    "= \\mathbf{y}^\\mathsf{T}\\mathbf{V}^\\mathsf{T}\\mathbf{V}\\mathbf{y}\n",
    "= \\| \\mathbf{y} \\|^2_2,\\; \\text{where } \\forall\\mathbf{y}\\in\\mathbb{R}^r\n",
    ")\\nonumber\\\\\n",
    "&=\n",
    "\\sum_{i=1}^r \\frac{f_{\\lambda, i}^2}{\\sigma_i^2} (\\mathbf{u}_i^\\mathsf{T}\\mathbf{b})^2.\n",
    "\\end{align}\n",
    "$$"
   ]
  },
  {
   "cell_type": "markdown",
   "metadata": {},
   "source": [
    "Before expressing $\\rho'$ and $\\eta'$, the following derivative is calculated:\n",
    "\n",
    "$$\n",
    "\\begin{align}\n",
    "f_{\\lambda, i} - 1\n",
    "&=\n",
    "\\frac{\\sigma_i^2}{\\sigma_i^2 + \\lambda}\\ - 1\\nonumber\\\\\n",
    "&=\n",
    "-\\frac{\\lambda}{\\sigma_i^2 + \\lambda}\\nonumber\\\\\n",
    "&=\n",
    "-\\frac{\\lambda}{\\sigma_i^2}f_{\\lambda, i},\\label{eq:flambda-1}\n",
    "\\end{align}\n",
    "$$\n",
    "\n",
    "$$\n",
    "\\begin{align*}\n",
    "\\frac{\\partial}{\\partial \\lambda}f_{\\lambda, i}^2\n",
    "&=\n",
    "2f_{\\lambda, i}f_{\\lambda, i}',\n",
    "\\end{align*}\n",
    "$$\n",
    "\n",
    "$$\n",
    "\\begin{align*}\n",
    "\\frac{\\partial}{\\partial \\lambda}(f_{\\lambda, i} - 1)^2\n",
    "&=\n",
    "2(f_{\\lambda, i} - 1)f_{\\lambda, i}'\\\\\n",
    "&=\n",
    "-2 \\frac{\\lambda}{\\sigma_i^2}f_{\\lambda, i}f_{\\lambda, i}'\\\\\n",
    "&=\n",
    "-\\lambda\\frac{\\partial}{\\partial \\lambda}\\frac{f_{\\lambda, i}^2}{\\sigma_i^2}.\n",
    "\\end{align*}\n",
    "$$"
   ]
  },
  {
   "cell_type": "markdown",
   "metadata": {},
   "source": [
    "Therefore, the following relations are obtained by calculating the derivative of $\\rho$ and $\\eta$:\n",
    "\n",
    "$$\n",
    "\\begin{align}\n",
    "\\rho'\n",
    "&=\n",
    "\\sum_{i=1}^r \\frac{\\partial}{\\partial \\lambda}(f_{\\lambda, i} - 1)^2 (\\mathbf{u}_i^\\mathsf{T}\\mathbf{b})^2\\nonumber\\\\\n",
    "&=\n",
    "-\\lambda\\sum_{i=1}^r \\frac{\\partial}{\\partial \\lambda}\\frac{f_{\\lambda, i}^2}{\\sigma_i^2} (\\mathbf{u}_i^\\mathsf{T}\\mathbf{b})^2\\nonumber\\\\\n",
    "&=\n",
    "-\\lambda \\eta'.\n",
    "\\end{align}\n",
    "$$"
   ]
  },
  {
   "cell_type": "markdown",
   "metadata": {},
   "source": [
    "Now let us represent $\\hat{\\rho}', \\hat{\\rho}'', \\hat{\\eta}', \\hat{\\eta}''$ in terms of $\\rho, \\eta, \\eta', \\eta''$:\n",
    "\n",
    "$$\n",
    "\\begin{align*}\n",
    "&\\hat{\\rho}' = \\frac{\\rho'}{\\rho} = -\\lambda\\frac{\\eta'}{\\rho},\\\\\n",
    "&\\hat{\\eta}' = \\frac{\\eta'}{\\eta},\\\\\n",
    "&\\hat{\\rho}'' = -\\frac{\\eta'}{\\rho} - \\lambda\\frac{\\eta''}{\\rho} - \\lambda^2\\frac{(\\eta')^2}{\\rho^2},\\\\\n",
    "&\\hat{\\eta}'' = \\frac{\\eta''}{\\eta} - \\frac{(\\eta')^2}{\\eta^2}.\n",
    "\\end{align*}\n",
    "$$"
   ]
  },
  {
   "cell_type": "markdown",
   "metadata": {},
   "source": [
    "Substituting these into the curvature $\\kappa(\\lambda)$, we obtain the following:\n",
    "\n",
    "$$\n",
    "\\begin{align*}\n",
    "\\text{numerator of } \\frac{\\kappa(\\lambda)}{2}\n",
    "&=\n",
    "\\hat{\\rho}''\\hat{\\eta}' - \\hat{\\rho}'\\hat{\\eta}''\\\\\n",
    "&=\n",
    "\\left(\n",
    "    -\\frac{\\eta'}{\\rho} - \\lambda\\frac{\\eta''}{\\rho} - \\lambda^2\\frac{(\\eta')^2}{\\rho^2}\n",
    "\\right)\n",
    "\\left(\n",
    "    \\frac{\\eta'}{\\eta}\n",
    "\\right)\n",
    "-\n",
    "\\left(\n",
    "    -\\lambda\\frac{\\eta'}{\\rho}\n",
    "\\right)\n",
    "\\left(\n",
    "    \\frac{\\eta''}{\\eta} - \\frac{(\\eta')^2}{\\eta^2}\n",
    "\\right)\n",
    "\\\\\n",
    "&=\n",
    "-\\lambda\\frac{(\\eta')^3}{\\rho\\eta^2} - \\frac{(\\eta')^2}{\\rho\\eta} - \\lambda^2\\frac{(\\eta')^3}{\\rho^2\\eta}\\\\\n",
    "&=\n",
    "-\\frac{(\\eta')^3}{\\rho^2\\eta^2}\n",
    "\\left(\n",
    "    \\lambda^2\\eta + \\lambda\\rho + \\rho\\eta/\\eta'\n",
    "\\right).\\\\\n",
    "\\end{align*}\n",
    "$$\n",
    "\n",
    "$$\n",
    "\\begin{align*}\n",
    "\\text{denominator of } \\kappa(\\lambda)\n",
    "&=\n",
    "\\left[\n",
    "    \\left(\\hat{\\rho}'\\right)^2\n",
    "    + \\left(\\hat{\\eta}'\\right)^2        \n",
    "\\right]^{3/2}\\\\\n",
    "&=\n",
    "\\left[\n",
    "    \\left(\n",
    "        -\\lambda\\frac{\\eta'}{\\rho}\n",
    "    \\right)^2\n",
    "    + \\left(\n",
    "        \\frac{\\eta'}{\\eta}\n",
    "    \\right)^2\n",
    "\\right]^{3/2}\\\\\n",
    "&=\n",
    "\\left[\n",
    "    \\left(\n",
    "        \\frac{\\eta'}{\\rho\\eta}\n",
    "    \\right)^2\n",
    "    \\left(\n",
    "        \\lambda^2\\eta^2 + \\rho^2\n",
    "    \\right)\n",
    "\\right]^{3/2}\\\\\n",
    "&=\n",
    "\\frac{(\\eta')^3}{\\rho^3\\eta^3}\n",
    "\\left(\n",
    "    \\lambda^2\\eta^2 + \\rho^2\n",
    "\\right)^{3/2}.\n",
    "\\end{align*}\n",
    "$$"
   ]
  },
  {
   "cell_type": "markdown",
   "metadata": {},
   "source": [
    "$$\n",
    "\\begin{equation}\n",
    "\\therefore\n",
    "\\kappa(\\lambda)\n",
    "=\n",
    "-2\\rho\\eta\\frac{\\lambda^2\\eta + \\lambda\\rho + \\rho\\eta/\\eta'}{(\\lambda^2\\eta^2 + \\rho^2)^{3/2}}.\n",
    "\\end{equation}\n",
    "$$"
   ]
  },
  {
   "cell_type": "markdown",
   "metadata": {},
   "source": [
    "### Express $\\eta'$ with series expansion components"
   ]
  },
  {
   "cell_type": "markdown",
   "metadata": {},
   "source": [
    "Let us express $\\eta'$ with series expansion components $\\mathbf{S}$, $\\mathbf{U}, \\mathbf{V}$, etc.\n",
    "\n",
    "Firstly the derivative of $f_{\\lambda, i}$ with respect to $\\lambda$ can be expressed as follows:\n",
    "\n",
    "$$\n",
    "\\begin{align*}\n",
    "f_{\\lambda, i}'\n",
    "&=\n",
    "\\frac{\\partial}{\\partial \\lambda}\\left(\\frac{\\sigma_i^2}{\\sigma_i^2 + \\lambda}\\right)\\\\\n",
    "&=\n",
    "-\\frac{\\sigma_i^2}{(\\sigma_i^2 + \\lambda)^2}\\\\\n",
    "&=\n",
    "\\frac{1}{\\lambda}\\cdot -\\frac{\\lambda}{\\sigma_i^2}f_{\\lambda, i} \\cdot f_{\\lambda, i}\\\\\n",
    "&=\n",
    "\\frac{1}{\\lambda}(f_{\\lambda, i} - 1)f_{\\lambda, i}. \\qquad(\\because \\eqref{eq:flambda-1} )\n",
    "\\end{align*}\n",
    "$$"
   ]
  },
  {
   "cell_type": "markdown",
   "metadata": {},
   "source": [
    "Therefore, $\\eta'$ is expressed as follows:\n",
    "$$\n",
    "\\begin{align}\n",
    "\\eta'\n",
    "&=\n",
    "\\frac{\\partial}{\\partial \\lambda}\\eta\\nonumber\\\\\n",
    "&=\n",
    "\\frac{\\partial}{\\partial \\lambda} \\sum_{i=1}^r \\frac{f_{\\lambda, i}^2}{\\sigma_i^2} (\\mathbf{u}_i^\\mathsf{T}\\mathbf{b})^2\\nonumber\\\\\n",
    "&=\n",
    "\\sum_{i=1}^r 2f_{\\lambda, i}f_{\\lambda, i}'\\frac{1}{\\sigma_i^2} (\\mathbf{u}_i^\\mathsf{T}\\mathbf{b})^2\\nonumber\\\\\n",
    "&=\n",
    "\\frac{2}{\\lambda} \\sum_{i=1}^r (f_{\\lambda, i} - 1)f_{\\lambda, i}^2 \\frac{1}{\\sigma_i^2} (\\mathbf{u}_i^\\mathsf{T}\\mathbf{b})^2\\nonumber\\\\\n",
    "&=\n",
    "\\frac{2}{\\lambda}\n",
    "(\\mathbf{U}^\\mathsf{T}\\mathbf{b})^\\mathsf{T}\n",
    "(\\mathbf{F}_\\lambda - \\mathbf{I}_r)\\mathbf{F}_\\lambda^2\\mathbf{S}^{-2}\\ \\mathbf{U}^\\mathsf{T}\\mathbf{b}.\n",
    "\\end{align}\n",
    "$$"
   ]
  },
  {
   "cell_type": "markdown",
   "metadata": {},
   "source": [
    "## References"
   ]
  },
  {
   "cell_type": "raw",
   "metadata": {
    "raw_mimetype": "text/restructuredtext"
   },
   "source": [
    ".. footbibliography::"
   ]
  }
 ],
 "metadata": {
  "language_info": {
   "name": "python"
  }
 },
 "nbformat": 4,
 "nbformat_minor": 2
}
