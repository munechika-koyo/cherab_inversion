{
 "cells": [
  {
   "cell_type": "markdown",
   "metadata": {},
   "source": [
    "# Minimum Fisher Regularization"
   ]
  },
  {
   "cell_type": "markdown",
   "metadata": {},
   "source": [
    "## Definition\n",
    "\n",
    "MFR (Minimum Fisher Regularization) was firstly introduced to solve the ill-posedness of the tomography problem for TCV tokamak plasma <cite data-footcite=\"Anton1996-ik\"></cite> and later applied to the ASDEX Upgrade tokamak <cite data-footcite=\"Odstrcil2016-va\"></cite>.\n",
    "The MFR tomography is formulated as a constrained optimization problem:\n",
    "\n",
    "$$\n",
    "\\begin{align}\n",
    "\\min_{\\mathbf{x}} \\quad &  \\left\\| \\mathbf{T} \\mathbf{x} - \\mathbf{b} \\right\\|_2^2\n",
    "    + \\lambda\\cdot \\mathbf{x}^\\mathsf{T} \\mathbf{H} \\mathbf{x}\\\\\n",
    "\\mathbf{H} & = \\sum_{i, j} \\alpha_{ij} \\mathbf{D}_i^\\mathsf{T} \\mathbf{W} \\mathbf{D}_j\\\\\n",
    "\\mathbf{W} & = \\rm{diag}\n",
    "    \\left(\n",
    "        \\cdots,\\frac{1}{\\max\\left\\{\\mathbf{x}_\\mathit{i}, \\epsilon_0\\right\\}},\\cdots\n",
    "    \\right),\n",
    "\\end{align}\n",
    "$$\n",
    "\n",
    "where $\\mathbf{x}$ is the vector of the unknowns, $\\mathbf{T}$ is the geometry matrix, $\\mathbf{b}$ is the measured data, $\\lambda$ is the regularization parameter, $\\mathbf{H}$ is the regularization matrix, $\\mathbf{D}_{i,j}$ is derivative matrices along the $i$ or $j$ coordinate direction, $\\alpha_{ij}$ is the anisotropic parameter, $\\mathbf{W}$ is the weight matrix, $\\mathbf{x}_\\mathit{i}$ is the $i$-th element of $\\mathbf{x}$, and $\\epsilon_0$ is a small positive number to avoid division by zero and to push the solution to be positive.\n",
    "\n",
    "The MFR method is the iterative method, and the iteration formula is:\n",
    "\n",
    "1. Put $\\mathbf{x}^{(0)} = \\mathbf{1}$ as the initial guess;\n",
    "2. Compute $\\mathbf{W}^{(k)}, \\mathbf{H}^{(k)}$ with $\\mathbf{x}^{(k)}$;\n",
    "3. Solve $\\mathbf{x}^{(k+1)}$ optimizing regularization parameter $\\lambda$ by non-iterative inversion methods;\n",
    "\n",
    "where $k$ is the iteration number, and the iteration between step 2 and 3 is repeated until the convergence criterion is satisfied or the maximum iteration number is reached.\n",
    "\n",
    "Several non-iterative inversion methods (e.g. L-curve method) can be used in step 3.\n",
    "This workflow is illustrated in the following figure."
   ]
  },
  {
   "cell_type": "raw",
   "metadata": {
    "raw_mimetype": "text/restructuredtext"
   },
   "source": [
    ".. figure:: ../../_static/images/mfr_workflow.svg\n",
    "   :align: center\n",
    "\n",
    "   The MFR solution is derived iteratively in the above workflow.\n"
   ]
  },
  {
   "cell_type": "markdown",
   "metadata": {},
   "source": [
    "## Example\n",
    "\n",
    "The example shows in [Example/MFR tomography](../../notebooks/iterative/01-mfr-tomography.ipynb)."
   ]
  },
  {
   "cell_type": "markdown",
   "metadata": {},
   "source": [
    "## References\n"
   ]
  },
  {
   "cell_type": "raw",
   "metadata": {
    "raw_mimetype": "text/restructuredtext"
   },
   "source": [
    ".. footbibliography::"
   ]
  }
 ],
 "metadata": {
  "language_info": {
   "name": "python"
  }
 },
 "nbformat": 4,
 "nbformat_minor": 2
}
