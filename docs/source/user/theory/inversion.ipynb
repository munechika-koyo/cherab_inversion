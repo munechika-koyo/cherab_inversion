{
 "cells": [
  {
   "cell_type": "markdown",
   "metadata": {},
   "source": [
    "# Theory of inversion problem"
   ]
  },
  {
   "cell_type": "markdown",
   "metadata": {},
   "source": [
    "## Definition of the ill-posed linear equation"
   ]
  },
  {
   "cell_type": "markdown",
   "metadata": {},
   "source": [
    "The inversion problem is described as a linear equation:\n",
    "\n",
    "$$\n",
    "\\begin{equation}\n",
    "\\mathbf{T} \\mathbf{x} = \\mathbf{b},\n",
    "\\label{eq:linear_equation}\n",
    "\\end{equation}\n",
    "$$\n",
    "\n",
    "where $\\mathbf{T}\\in\\mathbb{R}^{M\\times N}$ is a linear operator, $\\mathbf{x}\\in\\mathbb{R}^N$ is the\n",
    "a solution vector of the inversion problem, and $\\mathbf{b}\\in\\mathbb{R}^M$ is the given data vector.\n",
    "\n",
    "Frequently, the above equation cannot be solved directly because of the following reasons:\n",
    "\n",
    "1. The number of data $M$ is less than the number of unknowns $N$.\n",
    "2. The data $\\mathbf{b}$ is contaminated by noise.\n",
    "3. The operator $\\mathbf{T}$ (or $\\mathbf{T}^\\mathsf{T}\\mathbf{T}$) is not full rank or not invertible.\n",
    "\n",
    "The above equation is called an ill-posed linear equation."
   ]
  },
  {
   "cell_type": "markdown",
   "metadata": {},
   "source": [
    "## Regularization"
   ]
  },
  {
   "cell_type": "markdown",
   "metadata": {},
   "source": [
    "In order to solve the ill-posed linear equation \\eqref{eq:linear_equation}, we need to introduce a\n",
    "objective (or penalty) functional: $O(\\mathbf{x})$ and minimize the following functional\n",
    "<cite data-footcite=\"Ingesson2008-ve\"></cite>:\n",
    "\n",
    "$$\n",
    "\\begin{equation}\n",
    "\\min_{\\mathbf{x}} \\left[\\| \\mathbf{T} \\mathbf{x} - \\mathbf{b} \\|_2^2 + \\lambda \\cdot O(\\mathbf{x}) \\right],\n",
    "\\label{eq:minimize-functional}\n",
    "\\end{equation}\n",
    "$$\n",
    "\n",
    "where $\\lambda$ is a regularization parameter that controls the trade-off between the data\n",
    "misfit and the objective functional.\n",
    "\n",
    "The objective functional is typically a quadratic form: $O(\\mathbf{x}) = \\mathbf{x}^\\mathsf{T} \\mathbf{H} \\mathbf{x}$,\n",
    "where $\\mathbf{H}\\in\\mathbb{R}^{N\\times N}$ is a positive definite matrix.\n",
    "The squared of this quadratic form is called the regularization norm: $\\sqrt{\\mathbf{x}^\\mathsf{T} \\mathbf{H} \\mathbf{x}}$.\n",
    "\n",
    "The minimization procedure \\eqref{eq:minimize-functional} with the above regularization norm leads\n",
    "to the solution of ill-posed linear equation:\n",
    "\n",
    "$$\n",
    "\\begin{equation}\n",
    "\\mathbf{x} = \\left(\\mathbf{T}^\\mathsf{T} \\mathbf{T} + \\lambda \\mathbf{H} \\right)^{-1} \\mathbf{T}^\\mathsf{T} \\mathbf{b}.\n",
    "\\label{eq:solution}\n",
    "\\end{equation}\n",
    "$$\n",
    "\n",
    "Specifically, the above solution can be obtained by calculating the partial derivative of the\n",
    "functional \\eqref{eq:minimize-functional} with respect to $\\mathbf{x}$ and setting it to zero:\n",
    "\n",
    "$$\n",
    "\\begin{align*}\n",
    "\\frac{\\partial}{\\partial \\mathbf{x}} \\left[\\| \\mathbf{T} \\mathbf{x} - \\mathbf{b} \\|_2^2 + \\lambda \\cdot \\mathbf{x}^\\mathsf{T} \\mathbf{H}\\mathbf{x} \\right] &= 0\\\\\n",
    "\\frac{\\partial}{\\partial \\mathbf{x}} \\left[(\\mathbf{T} \\mathbf{x} - \\mathbf{b})^\\mathsf{T}(\\mathbf{T} \\mathbf{x} - \\mathbf{b}) + \\lambda \\cdot \\mathbf{x}^\\mathsf{T} \\mathbf{H}\\mathbf{x} \\right] &= 0\\\\\n",
    "\\frac{\\partial}{\\partial \\mathbf{x}} \\left[\\mathbf{x}^\\mathsf{T}(\\mathbf{T}^\\mathsf{T} \\mathbf{T} + \\lambda \\mathbf{H})\\mathbf{x} - 2 \\mathbf{x}^\\mathsf{T}\\mathbf{T}^\\mathsf{T} \\mathbf{b} + \\mathbf{b}^\\mathsf{T}\\mathbf{b} \\right] &= 0\\quad (\\because \\mathbf{b}^\\mathsf{T}\\mathbf{T}\\mathbf{x} = \\mathbf{x}^\\mathsf{T}\\mathbf{T}^\\mathsf{T}\\mathbf{b}\\in\\mathbb{R}^1)\\\\\n",
    "2(\\mathbf{T}^\\mathsf{T} \\mathbf{T} + \\lambda \\mathbf{H})\\mathbf{x} - 2 \\mathbf{T}^\\mathsf{T} \\mathbf{b} &= 0\\\\\n",
    "(\\mathbf{T}^\\mathsf{T} \\mathbf{T} + \\lambda \\mathbf{H})\\mathbf{x} &= \\mathbf{T}^\\mathsf{T} \\mathbf{b}\n",
    "\\end{align*}\n",
    "$$"
   ]
  },
  {
   "cell_type": "markdown",
   "metadata": {},
   "source": [
    "## Series expansion of the solution"
   ]
  },
  {
   "cell_type": "markdown",
   "metadata": {
    "raw_mimetype": "text/restructuredtext"
   },
   "source": [
    "Although a direct inverse calculation for \\eqref{eq:solution} is possible, it often needs a lot of\n",
    "computational resources.\n",
    "Additionally, to comprehend the solution, the cholesky decomposition and the\n",
    "singular value decomposition are often used <cite data-footcite=\"Odstrcil2016-va\"></cite>."
   ]
  },
  {
   "cell_type": "markdown",
   "metadata": {},
   "source": [
    "### 1. Cholesky decomposition of $\\mathbf{H}$\n",
    "\n",
    "$$\n",
    "\\begin{equation}\n",
    "\\mathbf{P}\\mathbf{H}\\mathbf{P}^\\mathsf{T} = \\mathbf{L}\\mathbf{L}^\\mathsf{T},\n",
    "\\label{eq:cholesky}\n",
    "\\end{equation}\n",
    "$$\n",
    "\n",
    "where $\\mathbf{P}$ is a fill-reducing permutation matrix and $\\mathbf{L}$ is a lower triangular matrix."
   ]
  },
  {
   "cell_type": "markdown",
   "metadata": {},
   "source": [
    "### 2. Singular Value Decomposition of $\\mathbf{A}\\equiv \\mathbf{T}\\mathbf{P}^\\mathsf{T}\\mathbf{L}^{-\\mathsf{T}}$"
   ]
  },
  {
   "cell_type": "markdown",
   "metadata": {},
   "source": [
    "Let us substitute the result of the cholesky decomposition \\eqref{eq:cholesky} into \\eqref{eq:solution}:\n",
    "\n",
    "$$\n",
    "\\begin{align*}\n",
    "\\mathbf{x}\n",
    "&=\n",
    "\\left(\n",
    "    \\mathbf{T}^\\mathsf{T} \\mathbf{T} + \\lambda \\mathbf{H}\n",
    "\\right)^{-1}\\mathbf{T}^\\mathsf{T} \\mathbf{b} \\\\\n",
    "&=\n",
    "\\left(\n",
    "    \\mathbf{T}^\\mathsf{T} \\mathbf{T} + \\lambda \\mathbf{P}^\\mathsf{T}\\mathbf{L}\\mathbf{L}^\\mathsf{T}\\mathbf{P}\n",
    "\\right)^{-1} \\mathbf{T}^\\mathsf{T} \\mathbf{b}\\\\\n",
    "&=\n",
    "\\left[\n",
    "    \\mathbf{P}^\\mathsf{T} \\mathbf{L}\n",
    "    \\left(\n",
    "        \\mathbf{L}^{-1}\\mathbf{P T}^\\mathsf{T}\\ \\mathbf{TP}^\\mathsf{T} \\mathbf{L}^{-\\mathsf{T}} + \\lambda \\mathbf{I}_N\n",
    "    \\right)\n",
    "    \\mathbf{L}^\\mathsf{T} \\mathbf{P}\n",
    "\\right]^{-1} \\mathbf{T}^\\mathsf{T} \\mathbf{b} \\qquad(\\mathbf{I}_N\\in\\mathbb{R}^{N\\times N}: \\text{identity matrix})\\\\\n",
    "&=\n",
    "\\mathbf{P}^\\mathsf{T} \\mathbf{L}^{-\\mathsf{T}}\n",
    "\\left(\n",
    "    \\mathbf{A}^\\mathsf{T}\\mathbf{A} + \\lambda \\mathbf{I}_N\n",
    "\\right)^{-1}\n",
    "\\mathbf{A}^\\mathsf{T} \\mathbf{b},\\qquad(\\because \\mathbf{P}^\\mathsf{T} = \\mathbf{P}^{-1})\n",
    "\\end{align*}\n",
    "$$\n",
    "\n",
    "where $\\mathbf{A}\\equiv \\mathbf{T}\\mathbf{P}^\\mathsf{T}\\mathbf{L}^{-\\mathsf{T}}$."
   ]
  },
  {
   "cell_type": "markdown",
   "metadata": {},
   "source": [
    "Let us perform the singular value decomposition to $\\mathbf{A}$:\n",
    "\n",
    "$$\n",
    "\\begin{equation}\n",
    "\\mathbf{A} = \\mathbf{U}\\mathbf{S}\\mathbf{V}^\\mathsf{T},\n",
    "\\label{eq:svd}\n",
    "\\end{equation}\n",
    "$$\n",
    "\n",
    "where $\\mathbf{U}\\in\\mathbb{R}^{M\\times r}$ and $\\mathbf{V}\\in\\mathbb{R}^{N\\times r}$ are the left\n",
    "and right singular vectors, respectively, and $\\mathbf{S}\\in\\mathbb{R}^{r\\times r}$ is a diagonal\n",
    "matrix with the singular values $\\sigma_i$. Here, $r$ is the rank of $\\mathbf{A}$ and $r\\leq\\min(M,N)$."
   ]
  },
  {
   "cell_type": "markdown",
   "metadata": {},
   "source": [
    "Hence, the solution $\\mathbf{x}$ can be written as:\n",
    "\n",
    "$$\n",
    "\\begin{align}\n",
    "\\mathbf{x}\n",
    "&=\n",
    "\\mathbf{P}^\\mathsf{T} \\mathbf{L}^{-\\mathsf{T}}\n",
    "\\left(\n",
    "    \\mathbf{VS U}^\\mathsf{T} \\mathbf{US V}^\\mathsf{T} + \\lambda \\mathbf{I}_N\n",
    "\\right)^{-1}\n",
    "\\mathbf{VS}^\\mathsf{T} \\mathbf{U}^\\mathsf{T} \\mathbf{b}\\nonumber\\\\\n",
    "&=\n",
    "\\mathbf{P}^\\mathsf{T} \\mathbf{L}^{-\\mathsf{T}} \\mathbf{V}^{-\\mathsf{T}}\n",
    "\\left(\\mathbf{S}^2 + \\lambda \\mathbf{I}_r\\right)^{-1}\n",
    "\\mathbf{V}^{-1}\\mathbf{V S U}^\\mathsf{T} \\mathbf{b} \\qquad(\\because \\mathbf{S}^\\mathsf{T} = \\mathbf{S})\\nonumber\\\\\n",
    "&=\n",
    "\\tilde{\\mathbf{V}}\n",
    "\\left(\\mathbf{I}_r + \\lambda \\mathbf{S}^{-2}\\right)^{-1}\n",
    "\\mathbf{S}^{-1} \\mathbf{U}^\\mathsf{T} \\mathbf{b}\n",
    "\\qquad(\n",
    "    \\because \\tilde{\\mathbf{V}}\\equiv \\mathbf{P}^\\mathsf{T} \\mathbf{L}^{-\\mathsf{T}}\\mathbf{V},\n",
    "    \\quad\\mathbf{V}^{-\\mathsf{T}} = \\mathbf{V}\n",
    ")\\nonumber\\\\\n",
    "&=\n",
    "\\tilde{\\mathbf{V}}\\mathbf{F}_\\lambda\\mathbf{S}^{-1}\\mathbf{U}^\\mathsf{T} \\mathbf{b}\n",
    "\\qquad\\left(\\because \\mathbf{F}_\\lambda\\equiv \\left(\\mathbf{I}_r + \\lambda \\mathbf{S}^{-2}\\right)^{-1}\\right),\n",
    "\\label{eq:sol-matrix}\n",
    "\\end{align}\n",
    "$$\n",
    "\n",
    "where $\\tilde{\\mathbf{V}}\\in\\mathbb{R}^{N\\times r}$ is called the inverted solution basis and\n",
    "$\\mathbf{F}_\\lambda\\in\\mathbb{R}^{r\\times r}$ is a diagonal matrix, the element $f_{\\lambda, i}$ of\n",
    "which plays the role of a filter that suppresses the small singular values. The diagonal elements\n",
    "of $\\mathbf{F}_\\lambda$ are given by:\n",
    "\n",
    "$$\n",
    "\\begin{equation}\n",
    "f_{\\lambda, i} = \\left(1 + \\frac{\\lambda}{\\sigma_i^2}\\right)^{-1},\n",
    "\\label{eq:filter}\n",
    "\\end{equation}\n",
    "$$\n",
    "\n",
    "where $\\sigma_i$ is the $i$-th diagonal element of $\\mathbf{S}$."
   ]
  },
  {
   "cell_type": "markdown",
   "metadata": {},
   "source": [
    "If matrices have the following forms:\n",
    "\n",
    "$$\n",
    "\\begin{align*}\n",
    "&\\tilde{\\mathbf{V}} =\n",
    "    \\begin{bmatrix}\n",
    "        \\tilde{\\mathbf{v}}_1 & \\tilde{\\mathbf{v}}_2 & \\cdots & \\tilde{\\mathbf{v}}_r\n",
    "    \\end{bmatrix},\\\\\n",
    "&\\mathbf{F}_\\lambda =\n",
    "    \\begin{bmatrix}\n",
    "        f_{\\lambda, 1} & & & \\\\\n",
    "        & f_{\\lambda, 2} & & \\\\\n",
    "        & & \\ddots & \\\\\n",
    "        & & & f_{\\lambda, r}\n",
    "    \\end{bmatrix},\\\\\n",
    "&\\mathbf{S} =\n",
    "    \\begin{bmatrix}\n",
    "        \\sigma_1 & & & \\\\\n",
    "        & \\sigma_2 & & \\\\\n",
    "        & & \\ddots & \\\\\n",
    "        & & & \\sigma_r\n",
    "    \\end{bmatrix},\\\\\n",
    "&\\mathbf{U} =\n",
    "    \\begin{bmatrix}\n",
    "        \\mathbf{u}_1 & \\mathbf{u}_2 & \\cdots & \\mathbf{u}_r\n",
    "    \\end{bmatrix},\\\\\n",
    "\\end{align*}\n",
    "$$\n",
    "\n",
    "then the \\eqref{eq:sol-matrix} can be calculated as follows:\n",
    "\n",
    "$$\n",
    "\\begin{align}\n",
    "\\mathbf{x} &=\n",
    "\\begin{bmatrix}\n",
    "    \\tilde{\\mathbf{v}}_1 & \\tilde{\\mathbf{v}}_2 & \\cdots & \\tilde{\\mathbf{v}}_r\n",
    "\\end{bmatrix}\n",
    "\\begin{bmatrix}\n",
    "    f_{\\lambda, 1}/\\sigma_1 & & & \\\\\n",
    "    & f_{\\lambda, 2}/\\sigma_2 & & \\\\\n",
    "    & & \\ddots & \\\\\n",
    "    & & & f_{\\lambda, r}/\\sigma_r\n",
    "\\end{bmatrix}\n",
    "\\begin{bmatrix}\n",
    "    \\mathbf{u}_1^\\mathsf{T} \\mathbf{b} \\\\\n",
    "    \\mathbf{u}_2^\\mathsf{T} \\mathbf{b} \\\\\n",
    "    \\vdots \\\\\n",
    "    \\mathbf{u}_r^\\mathsf{T} \\mathbf{b}\n",
    "\\end{bmatrix}\\nonumber\\\\\n",
    "&=\n",
    "\\begin{bmatrix}\n",
    "    \\tilde{\\mathbf{v}}_1 & \\tilde{\\mathbf{v}}_2 & \\cdots & \\tilde{\\mathbf{v}}_r\n",
    "\\end{bmatrix}\n",
    "\\begin{bmatrix}\n",
    "    f_{\\lambda, 1} \\mathbf{u}_1^\\mathsf{T} \\mathbf{b} / \\sigma_1 \\\\\n",
    "    f_{\\lambda, 2} \\mathbf{u}_2^\\mathsf{T} \\mathbf{b} / \\sigma_2 \\\\\n",
    "    \\vdots \\\\\n",
    "    f_{\\lambda, r} \\mathbf{u}_r^\\mathsf{T} \\mathbf{b} / \\sigma_r\n",
    "\\end{bmatrix}\\nonumber\\\\\n",
    "&=\n",
    "\\sum_{i=1}^r f_{\\lambda, i} \\frac{\\mathbf{u}_i^\\mathsf{T} \\mathbf{b}}{\\sigma_i} \\tilde{\\mathbf{v}}_i.\n",
    "\\label{eq:sol-expansion}\n",
    "\\end{align}\n",
    "$$"
   ]
  },
  {
   "cell_type": "markdown",
   "metadata": {},
   "source": [
    "The solution of the ill-posed linear equation \\eqref{eq:solution} can be expressed as a\n",
    "linear combination of the inverted solution basis vectors $\\tilde{\\mathbf{v}}_i$.\n",
    "The weight of the $i$-th inverted solution basis vector is determined by the $f_{\\lambda, i}$.\n",
    "The larger the index $i$ is, the smaller the singular value $\\sigma_i$ is and\n",
    "the much smaller the $f_{\\lambda, i}$ is if $\\lambda$ is sufficiently large.\n",
    "Therefore, the noisy components of the solution are suppressed by the regularization parameter $\\lambda$."
   ]
  },
  {
   "cell_type": "markdown",
   "metadata": {},
   "source": [
    "## Expression of the squared norm using the series expansion"
   ]
  },
  {
   "cell_type": "markdown",
   "metadata": {},
   "source": [
    "For the sake of futher discussion, let us derive the expression of the squared residual norm and the\n",
    "squared regularization norm using the series expansion \\eqref{eq:sol-expansion}.\n",
    "\n",
    "Let each squared norm be $\\rho$ and $\\eta$ respectively:\n",
    "\n",
    "$$\n",
    "\\begin{equation}\n",
    "\\rho \\equiv \\| \\mathbf{T}\\mathbf{x}_\\lambda - \\mathbf{b} \\|_2^2,\\quad\n",
    "\\eta \\equiv \\mathbf{x}_\\lambda^\\mathsf{T} \\mathbf{H} \\mathbf{x}_\\lambda.\n",
    "% \\label{eq:norms}\n",
    "\\end{equation}\n",
    "$$"
   ]
  },
  {
   "cell_type": "markdown",
   "metadata": {},
   "source": [
    "Firstly we transform $\\mathbf{T}\\tilde{\\mathbf{V}}$ into the following form:\n",
    "$$\n",
    "\\begin{equation}\n",
    "\\begin{split}\n",
    "\\mathbf{T}\\tilde{\\mathbf{V}}\n",
    "&=\n",
    "\\mathbf{T}\\mathbf{P}^\\mathsf{T}\\mathbf{L}^{-\\mathsf{T}}\\ \\mathbf{V}\n",
    "\\qquad(\\because \\tilde{\\mathbf{V}} = \\mathbf{P}^\\mathsf{T}\\mathbf{L}^{-\\mathsf{T}}\\mathbf{V})\\\\\n",
    "&=\n",
    "\\mathbf{U}\\mathbf{S}\\mathbf{V}^\\mathsf{T}\\mathbf{V}\n",
    "\\qquad(\\because \\mathbf{A} = \\mathbf{T}\\mathbf{P}^\\mathsf{T}\\mathbf{L}^{-\\mathsf{T}} = \\mathbf{U}\\mathbf{S}\\mathbf{V}^\\mathsf{T})\\\\\n",
    "&=\\mathbf{U}\\mathbf{S}.\n",
    "\\end{split}\n",
    "\\label{eq:TV}\n",
    "\\end{equation}\n",
    "$$"
   ]
  },
  {
   "cell_type": "markdown",
   "metadata": {},
   "source": [
    "Then, the $\\rho$ is expressed as follows:\n",
    "\n",
    "$$\n",
    "\\begin{align}\n",
    "\\rho\n",
    "&=\n",
    "\\| \\mathbf{T}\\mathbf{x}_\\lambda - \\mathbf{b} \\|_2^2\\nonumber\\\\\n",
    "&=\n",
    "\\| \\mathbf{T}\\tilde{\\mathbf{V}}\\mathbf{F}_\\lambda\\mathbf{S}^{-1}\\mathbf{U}^\\mathsf{T}\\mathbf{b} - \\mathbf{b} \\|_2^2\\nonumber\\\\\n",
    "&=\n",
    "\\| \\mathbf{U}\\mathbf{S}\\mathbf{F}_\\lambda\\mathbf{S}^{-1}\\mathbf{U}^\\mathsf{T}\\mathbf{b} - \\mathbf{b} \\|_2^2\\qquad(\\because \\eqref{eq:TV})\\nonumber\\\\\n",
    "&=\n",
    "\\| \\mathbf{U}\\mathbf{F}_\\lambda\\mathbf{U}^\\mathsf{T}\\mathbf{b} - \\mathbf{b} \\|_2^2\n",
    "\\qquad(\\because \\mathbf{S}\\mathbf{F}_\\lambda = \\mathbf{F}_\\lambda\\mathbf{S})\\nonumber\\\\\n",
    "&=\n",
    "\\| \\mathbf{U}(\\mathbf{F}_\\lambda - \\mathbf{I}_r)\\mathbf{U}^\\mathsf{T}\\mathbf{b} \\|^2_2\\label{eq:rho_in_norm}\\\\\n",
    "&=\n",
    "\\| (\\mathbf{F}_\\lambda - \\mathbf{I}_r)\\mathbf{U}^\\mathsf{T}\\mathbf{b} \\|^2_2\n",
    "\\qquad(\\because \\| \\mathbf{Uy} \\|^2_2 = \\mathbf{y}^\\mathsf{T}\\mathbf{U}^\\mathsf{T}\\mathbf{U}\\mathbf{y} = \\| \\mathbf{y} \\|^2_2,\\; \\text{where } \\forall\\mathbf{y}\\in\\mathbb{R}^r)\\nonumber\\\\\n",
    "&=\n",
    "\\sum_{i=1}^r (f_{\\lambda, i} - 1)^2 (\\mathbf{u}_i^\\mathsf{T}\\mathbf{b})^2.\n",
    "\\end{align}\n",
    "$$\n"
   ]
  },
  {
   "cell_type": "markdown",
   "metadata": {},
   "source": [
    "Also the $\\eta$ is expressed as follows:\n",
    "\n",
    "$$\n",
    "\\begin{align}\n",
    "\\eta\n",
    "&=\n",
    "\\mathbf{x}^\\mathsf{T}_\\lambda\\mathbf{H}\\mathbf{x}_\\lambda\\nonumber\\\\\n",
    "&=\n",
    "\\mathbf{b}^\\mathsf{T}\\mathbf{U}\\mathbf{S}^{-1}\\mathbf{F}_\\lambda\\tilde{\\mathbf{V}}^\\mathsf{T}\\ \\mathbf{P}^\\mathsf{T}\\mathbf{L}\\mathbf{L}^\\mathsf{T}\\mathbf{P}\\ \\tilde{\\mathbf{V}}\\mathbf{F}_\\lambda\\mathbf{S}^{-1}\\mathbf{U}^\\mathsf{T}\\mathbf{b}\n",
    "\\qquad (\\because \\mathbf{H} = \\mathbf{P}^\\mathsf{T}\\mathbf{L}\\mathbf{L}^\\mathsf{T}\\mathbf{P})\\nonumber\\\\\n",
    "&=\n",
    "\\| \\mathbf{L}^\\mathsf{T}\\mathbf{P}\\tilde{\\mathbf{V}}\\ \\mathbf{F}_\\lambda\\mathbf{S}^{-1}\\mathbf{U}^\\mathsf{T}\\mathbf{b} \\|^2_2\\nonumber\\\\\n",
    "&=\n",
    "\\| \\mathbf{V}\\mathbf{F}_\\lambda \\mathbf{S}^{-1}\\mathbf{U}^\\mathsf{T}\\mathbf{b} \\|^2_2\n",
    "\\qquad (\\because\n",
    "\\mathbf{L}^\\mathsf{T}\\mathbf{P}\\tilde{\\mathbf{V}}\n",
    "= \\mathbf{L}^\\mathsf{T}\\mathbf{P}\\ \\mathbf{P}^\\mathsf{T}\\mathbf{L}^{-\\mathsf{T}}\\mathbf{V}\n",
    "= \\mathbf{V}\n",
    ")\\nonumber\\\\\n",
    "&=\n",
    "\\| \\mathbf{F}_\\lambda \\mathbf{S}^{-1}\\mathbf{U}^\\mathsf{T}\\mathbf{b} \\|^2_2\n",
    "\\qquad(\\because\n",
    "\\| \\mathbf{Vy} \\|^2_2\n",
    "= \\mathbf{y}^\\mathsf{T}\\mathbf{V}^\\mathsf{T}\\mathbf{V}\\mathbf{y}\n",
    "= \\| \\mathbf{y} \\|^2_2,\\; \\text{where } \\forall\\mathbf{y}\\in\\mathbb{R}^r\n",
    ")\\nonumber\\\\\n",
    "&=\n",
    "\\sum_{i=1}^r \\frac{f_{\\lambda, i}^2}{\\sigma_i^2} (\\mathbf{u}_i^\\mathsf{T}\\mathbf{b})^2.\n",
    "\\end{align}\n",
    "$$"
   ]
  },
  {
   "cell_type": "markdown",
   "metadata": {},
   "source": [
    "Additionally, we derive the series-expansion form of the vector:\n",
    "$\\mathbf{T}\\mathbf{x}_\\lambda - \\mathbf{b}$ as follows:"
   ]
  },
  {
   "cell_type": "markdown",
   "metadata": {},
   "source": [
    "$$\n",
    "\\begin{align}\n",
    "\\mathbf{T}\\mathbf{x}_\\lambda - \\mathbf{b}\n",
    "&=\n",
    "\\mathbf{U}(\\mathbf{F}_\\lambda - \\mathbf{I}_r)\\mathbf{U}^\\mathsf{T}\\mathbf{b}\\quad(\\because {\\eqref{eq:rho_in_norm}})\\nonumber\\\\\n",
    "&=\n",
    "\\sum_{i=1}^r (f_{\\lambda, i} - 1) (\\mathbf{u}_i^\\mathsf{T}\\mathbf{b}) \\mathbf{u}_i.\n",
    "\\end{align}\n",
    "$$"
   ]
  },
  {
   "cell_type": "markdown",
   "metadata": {},
   "source": [
    "## References"
   ]
  },
  {
   "cell_type": "raw",
   "metadata": {
    "raw_mimetype": "text/restructuredtext"
   },
   "source": [
    ".. footbibliography::"
   ]
  }
 ],
 "metadata": {
  "kernelspec": {
   "display_name": "Python 3 (ipykernel)",
   "language": "python",
   "name": "python3"
  },
  "language_info": {
   "codemirror_mode": {
    "name": "ipython",
    "version": 3
   },
   "file_extension": ".py",
   "mimetype": "text/x-python",
   "name": "python",
   "nbconvert_exporter": "python",
   "pygments_lexer": "ipython3",
   "version": "3.10.12"
  },
  "widgets": {
   "application/vnd.jupyter.widget-state+json": {
    "state": {},
    "version_major": 2,
    "version_minor": 0
   }
  }
 },
 "nbformat": 4,
 "nbformat_minor": 4
}
